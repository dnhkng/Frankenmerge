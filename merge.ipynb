{
 "cells": [
  {
   "cell_type": "code",
   "execution_count": 1,
   "metadata": {},
   "outputs": [
    {
     "name": "stderr",
     "output_type": "stream",
     "text": [
      "/home/dnhkng/.local/lib/python3.10/site-packages/tqdm/auto.py:21: TqdmWarning: IProgress not found. Please update jupyter and ipywidgets. See https://ipywidgets.readthedocs.io/en/stable/user_install.html\n",
      "  from .autonotebook import tqdm as notebook_tqdm\n"
     ]
    }
   ],
   "source": [
    "import argparse\n",
    "import pickle\n",
    "\n",
    "import torch\n",
    "import tqdm\n",
    "from exllamav2 import ExLlamaV2, ExLlamaV2Cache, ExLlamaV2Config, ExLlamaV2Tokenizer\n",
    "from transformers import AutoTokenizer\n"
   ]
  },
  {
   "cell_type": "markdown",
   "metadata": {},
   "source": [
    "# Merge Stories"
   ]
  },
  {
   "cell_type": "code",
   "execution_count": 60,
   "metadata": {},
   "outputs": [],
   "source": [
    "generator = \"Mistral\"\n",
    "storyInt = 1\n",
    "\n",
    "\n",
    "for storyInt in range(1, 11):\n",
    "    match generator:\n",
    "        case \"Mistral\":\n",
    "            folderName = \"Stories/Mistral-Instruct-Stories\"  # 7B parameter model\n",
    "            fileName = f\"Mistral-7B-Instruct-v0.2-stories_{storyInt}\"\n",
    "        case \"Nous-Capybara\":\n",
    "            folderName = \"Stories/Nous-Capybara-Stories\"  # 34B parameter model\n",
    "            fileName = f\"Nous-Capybara-34B-4.0bpw-stories_{storyInt}\"\n",
    "        case _:\n",
    "            print(\"Invalid generator model\")\n",
    "            quit()\n",
    "    generatedTexts = pickle.load(open(f\"{folderName}/{fileName}.p\", \"rb\"))\n",
    "    generatedTextsExtra = pickle.load(open(f\"{fileName}.p\", \"rb\"))\n",
    "\n",
    "    merged = {}\n",
    "\n",
    "    merged['stories'] = generatedTexts['modelOutput'] | generatedTextsExtra['modelOutput']\n",
    "    merged['theme'] = generatedTexts['theme']\n",
    "    merged['prompt'] = generatedTexts['prompt'] \n",
    "    merged['modelName'] = generatedTexts['modelName']\n",
    "    merged['layersDict'] = generatedTexts['layersDict']\n",
    "    merged['config'] = vars(generatedTexts['settings'])\n",
    "    merged['config']['max_new_tokens'] = generatedTexts['max_new_tokens']\n",
    "    merged['config']['seed'] = generatedTexts['seed']\n",
    "\n",
    "    pickle.dump(merged, open(f\"{folderName}/{fileName}.p\", \"wb\"))"
   ]
  },
  {
   "cell_type": "markdown",
   "metadata": {},
   "source": [
    "# Fix TinyLlama"
   ]
  },
  {
   "cell_type": "code",
   "execution_count": 115,
   "metadata": {},
   "outputs": [],
   "source": [
    "generator = \"Mistral\"\n",
    "storyInt = 1\n",
    "\n",
    "\n",
    "for storyInt in range(1, 11):\n",
    "\n",
    "    folderName = \"Stories/TinyLlama-Chat-Stories\"  # 1B parameter model\n",
    "    fileName = f\"TinyLlama-1.1B-Chat-v1.0-5.0bpw-h6-exl2-stories_{storyInt}\"\n",
    "\n",
    "    generatedTexts = pickle.load(open(f\"{folderName}/{fileName}.p\", \"rb\"))\n",
    "\n",
    "    merged = {}\n",
    "\n",
    "    merged['stories'] = generatedTexts['modelOutput']\n",
    "    merged['theme'] = generatedTexts['theme']\n",
    "    merged['prompt'] = generatedTexts['prompt'] \n",
    "    merged['modelName'] = generatedTexts['modelName']\n",
    "    merged['layersDict'] = generatedTexts['layersDict']\n",
    "    merged['config'] = vars(generatedTexts['settings'])\n",
    "    merged['config']['max_new_tokens'] = generatedTexts['max_new_tokens']\n",
    "    merged['config']['seed'] = generatedTexts['seed']\n",
    "\n",
    "    pickle.dump(merged, open(f\"{folderName}/{fileName}.p\", \"wb\"))"
   ]
  },
  {
   "cell_type": "code",
   "execution_count": 110,
   "metadata": {},
   "outputs": [],
   "source": [
    "generatedTexts = pickle.load(open(f\"{folderName}/TinyLlama-1.1B-Chat-v1.0-5.0bpw-h6-exl2-stories_1_tmp.p\", \"rb\"))"
   ]
  },
  {
   "cell_type": "code",
   "execution_count": 113,
   "metadata": {},
   "outputs": [
    {
     "data": {
      "text/plain": [
       "dict_keys(['temperature', 'top_k', 'top_p', 'top_a', 'token_repetition_penalty', 'max_new_tokens', 'seed'])"
      ]
     },
     "execution_count": 113,
     "metadata": {},
     "output_type": "execute_result"
    }
   ],
   "source": [
    "generatedTexts['config'].keys()"
   ]
  },
  {
   "cell_type": "code",
   "execution_count": 108,
   "metadata": {},
   "outputs": [
    {
     "data": {
      "text/plain": [
       "506"
      ]
     },
     "execution_count": 108,
     "metadata": {},
     "output_type": "execute_result"
    }
   ],
   "source": [
    "storyInt = 1\n",
    "folderName = \"Stories/Mistral-Instruct-Stories\"  # 7B parameter model\n",
    "fileName = f\"Mistral-7B-Instruct-v0.2-stories_{storyInt}\"\n",
    "\n",
    "\n",
    "generatedTexts = pickle.load(open(f\"{folderName}/{fileName}.p\", \"rb\"))\n",
    "len(generatedTexts['stories'])"
   ]
  },
  {
   "cell_type": "markdown",
   "metadata": {},
   "source": [
    "# Merge Ratings"
   ]
  },
  {
   "cell_type": "code",
   "execution_count": 103,
   "metadata": {},
   "outputs": [
    {
     "ename": "FileNotFoundError",
     "evalue": "[Errno 2] No such file or directory: './Nous-Capybara-34B-4.0bpw-stories_1_Ratings_Mistral_mistral_instruct.p'",
     "output_type": "error",
     "traceback": [
      "\u001b[0;31m---------------------------------------------------------------------------\u001b[0m",
      "\u001b[0;31mFileNotFoundError\u001b[0m                         Traceback (most recent call last)",
      "Cell \u001b[0;32mIn[103], line 20\u001b[0m\n\u001b[1;32m     18\u001b[0m         quit()\n\u001b[1;32m     19\u001b[0m generatedRatings \u001b[38;5;241m=\u001b[39m pickle\u001b[38;5;241m.\u001b[39mload(\u001b[38;5;28mopen\u001b[39m(\u001b[38;5;124mf\u001b[39m\u001b[38;5;124m\"\u001b[39m\u001b[38;5;132;01m{\u001b[39;00mfolderName\u001b[38;5;132;01m}\u001b[39;00m\u001b[38;5;124m/\u001b[39m\u001b[38;5;132;01m{\u001b[39;00mfileName\u001b[38;5;132;01m}\u001b[39;00m\u001b[38;5;124m.p\u001b[39m\u001b[38;5;124m\"\u001b[39m, \u001b[38;5;124m\"\u001b[39m\u001b[38;5;124mrb\u001b[39m\u001b[38;5;124m\"\u001b[39m))\n\u001b[0;32m---> 20\u001b[0m generatedRatingExtra \u001b[38;5;241m=\u001b[39m pickle\u001b[38;5;241m.\u001b[39mload(\u001b[38;5;28;43mopen\u001b[39;49m\u001b[43m(\u001b[49m\u001b[38;5;124;43mf\u001b[39;49m\u001b[38;5;124;43m\"\u001b[39;49m\u001b[38;5;124;43m./\u001b[39;49m\u001b[38;5;132;43;01m{\u001b[39;49;00m\u001b[43mfileName\u001b[49m\u001b[38;5;132;43;01m}\u001b[39;49;00m\u001b[38;5;124;43m.p\u001b[39;49m\u001b[38;5;124;43m\"\u001b[39;49m\u001b[43m,\u001b[49m\u001b[43m \u001b[49m\u001b[38;5;124;43m\"\u001b[39;49m\u001b[38;5;124;43mrb\u001b[39;49m\u001b[38;5;124;43m\"\u001b[39;49m\u001b[43m)\u001b[49m)\n\u001b[1;32m     22\u001b[0m merged \u001b[38;5;241m=\u001b[39m generatedRatings \u001b[38;5;241m|\u001b[39m generatedRatingExtra\n\u001b[1;32m     23\u001b[0m \u001b[38;5;28mprint\u001b[39m(\u001b[38;5;124m'\u001b[39m\u001b[38;5;124mehere\u001b[39m\u001b[38;5;124m'\u001b[39m)\n",
      "File \u001b[0;32m~/.local/lib/python3.10/site-packages/IPython/core/interactiveshell.py:286\u001b[0m, in \u001b[0;36m_modified_open\u001b[0;34m(file, *args, **kwargs)\u001b[0m\n\u001b[1;32m    279\u001b[0m \u001b[38;5;28;01mif\u001b[39;00m file \u001b[38;5;129;01min\u001b[39;00m {\u001b[38;5;241m0\u001b[39m, \u001b[38;5;241m1\u001b[39m, \u001b[38;5;241m2\u001b[39m}:\n\u001b[1;32m    280\u001b[0m     \u001b[38;5;28;01mraise\u001b[39;00m \u001b[38;5;167;01mValueError\u001b[39;00m(\n\u001b[1;32m    281\u001b[0m         \u001b[38;5;124mf\u001b[39m\u001b[38;5;124m\"\u001b[39m\u001b[38;5;124mIPython won\u001b[39m\u001b[38;5;124m'\u001b[39m\u001b[38;5;124mt let you open fd=\u001b[39m\u001b[38;5;132;01m{\u001b[39;00mfile\u001b[38;5;132;01m}\u001b[39;00m\u001b[38;5;124m by default \u001b[39m\u001b[38;5;124m\"\u001b[39m\n\u001b[1;32m    282\u001b[0m         \u001b[38;5;124m\"\u001b[39m\u001b[38;5;124mas it is likely to crash IPython. If you know what you are doing, \u001b[39m\u001b[38;5;124m\"\u001b[39m\n\u001b[1;32m    283\u001b[0m         \u001b[38;5;124m\"\u001b[39m\u001b[38;5;124myou can use builtins\u001b[39m\u001b[38;5;124m'\u001b[39m\u001b[38;5;124m open.\u001b[39m\u001b[38;5;124m\"\u001b[39m\n\u001b[1;32m    284\u001b[0m     )\n\u001b[0;32m--> 286\u001b[0m \u001b[38;5;28;01mreturn\u001b[39;00m \u001b[43mio_open\u001b[49m\u001b[43m(\u001b[49m\u001b[43mfile\u001b[49m\u001b[43m,\u001b[49m\u001b[43m \u001b[49m\u001b[38;5;241;43m*\u001b[39;49m\u001b[43margs\u001b[49m\u001b[43m,\u001b[49m\u001b[43m \u001b[49m\u001b[38;5;241;43m*\u001b[39;49m\u001b[38;5;241;43m*\u001b[39;49m\u001b[43mkwargs\u001b[49m\u001b[43m)\u001b[49m\n",
      "\u001b[0;31mFileNotFoundError\u001b[0m: [Errno 2] No such file or directory: './Nous-Capybara-34B-4.0bpw-stories_1_Ratings_Mistral_mistral_instruct.p'"
     ]
    }
   ],
   "source": [
    "generator = \"Nous-Capybara\"\n",
    "reviewer = \"Mistral\"\n",
    "storyInt = 1\n",
    "\n",
    "\n",
    "for storyInt in range(1,11):\n",
    "    match generator:\n",
    "\n",
    "        case \"Mistral\":\n",
    "\n",
    "            folderName = \"Ratings/Probabilities\"  # 7B parameter model\n",
    "            fileName = f\"Mistral-7B-Instruct-v0.2-stories_{storyInt}_Ratings_Mistral_mistral_instruct\"\n",
    "        case \"Nous-Capybara\":\n",
    "            folderName = \"Ratings/Probabilities\"  # 34B parameter model\n",
    "            fileName = f\"Nous-Capybara-34B-4.0bpw-stories_{storyInt}_Ratings_Mistral_mistral_instruct\"\n",
    "        case _:\n",
    "            print(\"Invalid generator model\")\n",
    "            quit()\n",
    "    generatedRatings = pickle.load(open(f\"{folderName}/{fileName}.p\", \"rb\"))\n",
    "    generatedRatingExtra = pickle.load(open(f\"./{fileName}.p\", \"rb\"))\n",
    "\n",
    "    merged = generatedRatings | generatedRatingExtra\n",
    "    print('ehere')\n",
    "    # pickle.dump(merged, open(f\"tmp{storyInt}.p\", \"wb\"))\n",
    "    pickle.dump(merged, open(f\"{folderName}/{fileName}_merged.p\", \"wb\"))"
   ]
  },
  {
   "cell_type": "code",
   "execution_count": 104,
   "metadata": {},
   "outputs": [
    {
     "name": "stdout",
     "output_type": "stream",
     "text": [
      "/home/dnhkng/Documents/LLM/Frankenmerge\n"
     ]
    }
   ],
   "source": [
    "!pwd"
   ]
  },
  {
   "cell_type": "code",
   "execution_count": null,
   "metadata": {},
   "outputs": [],
   "source": [
    "Nous-Capybara-34B-4.0bpw-stories_1_Ratings_Mistral_mistral_instruct.p\n",
    "Nous-Capybara-34B-4.0bpw-stories_1_Ratings_Mistral_mistral_instruct\n",
    "Nous-Capybara-34B-4.0bpw-stories_1_Ratings_Mixtral_mistral_instruct"
   ]
  },
  {
   "cell_type": "code",
   "execution_count": 98,
   "metadata": {},
   "outputs": [],
   "source": [
    "storyInt = 1\n",
    "folderName = \"Ratings/Probabilities\"  # 7B parameter model\n",
    "fileName = f\"Mistral-7B-Instruct-v0.2-stories_{storyInt}_Ratings_Mistral_mistral_instruct\"\n",
    "\n",
    "# fileName = f\"Nous-Capybara-34B-4.0bpw-stories_{storyInt}_Ratings_Mistral_mistral_instruct\"\n",
    "folderName = \".\"\n",
    "fileName = 'tmp1'\n",
    "generatedRatings = pickle.load(open(f\"{folderName}/{fileName}.p\", \"rb\"))"
   ]
  },
  {
   "cell_type": "code",
   "execution_count": 99,
   "metadata": {},
   "outputs": [
    {
     "data": {
      "text/plain": [
       "506"
      ]
     },
     "execution_count": 99,
     "metadata": {},
     "output_type": "execute_result"
    }
   ],
   "source": [
    "len(generatedRatings) "
   ]
  },
  {
   "cell_type": "code",
   "execution_count": 72,
   "metadata": {},
   "outputs": [
    {
     "data": {
      "text/plain": [
       "9"
      ]
     },
     "execution_count": 72,
     "metadata": {},
     "output_type": "execute_result"
    }
   ],
   "source": [
    "len(generatedRatingExtra) "
   ]
  },
  {
   "cell_type": "code",
   "execution_count": 74,
   "metadata": {},
   "outputs": [],
   "source": [
    "merged = generatedRatings | generatedRatingExtra"
   ]
  },
  {
   "cell_type": "code",
   "execution_count": 75,
   "metadata": {},
   "outputs": [
    {
     "data": {
      "text/plain": [
       "506"
      ]
     },
     "execution_count": 75,
     "metadata": {},
     "output_type": "execute_result"
    }
   ],
   "source": [
    "len(merged)"
   ]
  },
  {
   "cell_type": "code",
   "execution_count": 2,
   "metadata": {},
   "outputs": [
    {
     "data": {
      "text/plain": [
       "[1,\n",
       " 2,\n",
       " 3,\n",
       " 4,\n",
       " 5,\n",
       " 6,\n",
       " 7,\n",
       " 8,\n",
       " 3,\n",
       " 4,\n",
       " 5,\n",
       " 6,\n",
       " 7,\n",
       " 8,\n",
       " 3,\n",
       " 4,\n",
       " 5,\n",
       " 6,\n",
       " 7,\n",
       " 8,\n",
       " 3,\n",
       " 4,\n",
       " 5,\n",
       " 6,\n",
       " 7,\n",
       " 8,\n",
       " 9,\n",
       " 10,\n",
       " 11]"
      ]
     },
     "execution_count": 2,
     "metadata": {},
     "output_type": "execute_result"
    }
   ],
   "source": [
    "list(range(1, 3)) + 4*(list(range(3, 9))) + list(range(9, 12))"
   ]
  },
  {
   "cell_type": "code",
   "execution_count": null,
   "metadata": {},
   "outputs": [],
   "source": []
  }
 ],
 "metadata": {
  "kernelspec": {
   "display_name": "frankenmerge",
   "language": "python",
   "name": "python3"
  },
  "language_info": {
   "codemirror_mode": {
    "name": "ipython",
    "version": 3
   },
   "file_extension": ".py",
   "mimetype": "text/x-python",
   "name": "python",
   "nbconvert_exporter": "python",
   "pygments_lexer": "ipython3",
   "version": "3.10.13"
  }
 },
 "nbformat": 4,
 "nbformat_minor": 2
}
