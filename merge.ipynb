{
 "cells": [
  {
   "cell_type": "code",
   "execution_count": 1,
   "metadata": {},
   "outputs": [
    {
     "name": "stderr",
     "output_type": "stream",
     "text": [
      "/home/dnhkng/.local/lib/python3.10/site-packages/tqdm/auto.py:21: TqdmWarning: IProgress not found. Please update jupyter and ipywidgets. See https://ipywidgets.readthedocs.io/en/stable/user_install.html\n",
      "  from .autonotebook import tqdm as notebook_tqdm\n"
     ]
    }
   ],
   "source": [
    "import argparse\n",
    "import pickle\n",
    "\n",
    "import torch\n",
    "import tqdm\n",
    "from exllamav2 import ExLlamaV2, ExLlamaV2Cache, ExLlamaV2Config, ExLlamaV2Tokenizer\n",
    "from transformers import AutoTokenizer\n"
   ]
  },
  {
   "cell_type": "code",
   "execution_count": 40,
   "metadata": {},
   "outputs": [],
   "source": [
    "generator = \"Nous-Capybara\"\n",
    "storyInt = 1\n",
    "\n",
    "\n",
    "for storyInt in range(1, 11):\n",
    "    match generator:\n",
    "        case \"TinyLlama\":\n",
    "            folderName = \"Stories/TinyLlama-Chat-Stories\"  # 1B parameter model\n",
    "            fileName = f\"TinyLlama-1.1B-Chat-v1.0-5.0bpw-h6-exl2-stories_{storyInt}\"\n",
    "        case \"Mistral\":\n",
    "\n",
    "            folderName = \"Stories/Mistral-Instruct-Stories\"  # 7B parameter model\n",
    "            fileName = f\"Mistral-7B-Instruct-v0.2-stories_{storyInt}\"\n",
    "        case \"Nous-Capybara\":\n",
    "            folderName = \"Stories/Nous-Capybara-Stories\"  # 34B parameter model\n",
    "            fileName = f\"Nous-Capybara-34B-4.0bpw-stories_{storyInt}\"\n",
    "        case _:\n",
    "            print(\"Invalid generator model\")\n",
    "            quit()\n",
    "    generatedTexts = pickle.load(open(f\"{folderName}/{fileName}.p\", \"rb\"))\n",
    "    generatedTextsExtra = pickle.load(open(f\"{fileName}.p\", \"rb\"))\n",
    "\n",
    "    merged = {}\n",
    "\n",
    "    merged['stories'] = generatedTexts['modelOutput'] | generatedTextsExtra['modelOutput']\n",
    "    merged['theme'] = generatedTexts['theme']\n",
    "    merged['prompt'] = generatedTexts['prompt'] \n",
    "    merged['modelName'] = generatedTexts['modelName']\n",
    "    merged['layersDict'] = generatedTexts['layersDict']\n",
    "    merged['config'] = vars(generatedTexts['settings'])\n",
    "    merged['config']['max_new_tokens'] = generatedTexts['max_new_tokens']\n",
    "    merged['config']['seed'] = generatedTexts['seed']\n",
    "\n",
    "    pickle.dump(merged, open(f\"{folderName}/{fileName}_merged.p\", \"wb\"))"
   ]
  },
  {
   "cell_type": "code",
   "execution_count": 43,
   "metadata": {},
   "outputs": [
    {
     "data": {
      "text/plain": [
       "1780"
      ]
     },
     "execution_count": 43,
     "metadata": {},
     "output_type": "execute_result"
    }
   ],
   "source": [
    "generatedTexts = pickle.load(open(f\"{folderName}/{fileName}_merged.p\", \"rb\"))\n",
    "len(generatedTexts['stories'])"
   ]
  }
 ],
 "metadata": {
  "kernelspec": {
   "display_name": "frankenmerge",
   "language": "python",
   "name": "python3"
  },
  "language_info": {
   "codemirror_mode": {
    "name": "ipython",
    "version": 3
   },
   "file_extension": ".py",
   "mimetype": "text/x-python",
   "name": "python",
   "nbconvert_exporter": "python",
   "pygments_lexer": "ipython3",
   "version": "3.10.13"
  }
 },
 "nbformat": 4,
 "nbformat_minor": 2
}
